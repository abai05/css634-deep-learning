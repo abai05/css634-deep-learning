{
 "cells": [
  {
   "cell_type": "code",
   "execution_count": 1,
   "metadata": {},
   "outputs": [],
   "source": [
    "%matplotlib inline\n",
    "import matplotlib.pyplot as plt\n",
    "import pandas as pd\n",
    "import torch\n",
    "import torch.nn.functional as F\n",
    "from io import BytesIO\n",
    "import numpy as np"
   ]
  },
  {
   "cell_type": "code",
   "execution_count": 2,
   "metadata": {},
   "outputs": [
    {
     "data": {
      "image/png": "[encoded data removed]",
      "text/plain": [
       "<Figure size 720x252 with 2 Axes>"
      ]
     },
     "metadata": {
      "needs_background": "light"
     },
     "output_type": "display_data"
    }
   ],
   "source": [
    "##########################\n",
    "### DATASET\n",
    "##########################\n",
    "\n",
    "ds = np.lib.DataSource()\n",
    "fp = ds.open('https://archive.ics.uci.edu/ml/machine-learning-databases/iris/iris.data')\n",
    "\n",
    "x = np.genfromtxt(BytesIO(fp.read().encode()), delimiter=',', usecols=(0,3), max_rows=150)\n",
    "# print(x)\n",
    "y = np.zeros(150)\n",
    "y[50:100] = 1\n",
    "y[100:] = 2\n",
    "\n",
    "np.random.seed(1)\n",
    "idx = np.arange(y.shape[0])\n",
    "np.random.shuffle(idx)\n",
    "X_test, y_test = x[idx[:30]], y[idx[:30]]\n",
    "X_train, y_train = x[idx[30:]], y[idx[30:]]\n",
    "mu, std = np.mean(X_train, axis=0), np.std(X_train, axis=0)\n",
    "X_train, X_test = (X_train - mu) / std, (X_test - mu) / std\n",
    "X_train = torch.tensor(X_train, dtype=torch.float)\n",
    "X_test = torch.tensor(X_test, dtype=torch.float)\n",
    "y_train = torch.tensor(y_train, dtype=torch.int)\n",
    "y_test = torch.tensor(y_test, dtype=torch.int)\n",
    "\n",
    "fig, ax = plt.subplots(1, 2, figsize=(10, 3.5))\n",
    "ax[0].scatter(X_train[y_train == 1, 0], X_train[y_train == 1, 1])\n",
    "ax[0].scatter(X_train[y_train == 0, 0], X_train[y_train == 0, 1])\n",
    "ax[0].scatter(X_train[y_train == 2, 0], X_train[y_train == 2, 1])\n",
    "\n",
    "\n",
    "ax[1].scatter(X_test[y_test == 1, 0], X_test[y_test == 1, 1])\n",
    "ax[1].scatter(X_test[y_test == 0, 0], X_test[y_test == 0, 1])\n",
    "ax[1].scatter(X_test[y_test == 2, 0], X_test[y_test == 2, 1])\n",
    "plt.show()"
   ]
  },
  {
   "cell_type": "code",
   "execution_count": 7,
   "metadata": {},
   "outputs": [],
   "source": [
    "def to_onehot(y, num_classes):\n",
    "    y_onehot = torch.FloatTensor(y.size(0), num_classes)\n",
    "    y_onehot.zero_()\n",
    "    y_onehot.scatter_(1, y.view(-1, 1).long(), 1).float()\n",
    "    return y_onehot.to(device)\n",
    "\n",
    "def softmax(z):\n",
    "    return (torch.exp(z.t()) / torch.sum(torch.exp(z), dim=1)).t()\n",
    "                    \n",
    "def cross_entropy(softmax, y_target):\n",
    "    return -torch.sum(torch.log(softmax) * (y_target), dim=1)"
   ]
  },
  {
   "cell_type": "code",
   "execution_count": 8,
   "metadata": {},
   "outputs": [],
   "source": [
    "device = torch.device('cuda:0' if torch.cuda.is_available() else 'cpu')"
   ]
  },
  {
   "cell_type": "code",
   "execution_count": 9,
   "metadata": {},
   "outputs": [],
   "source": [
    "class SoftmaxRegression():\n",
    "    def __init__(self, num_features, num_classes):\n",
    "        self.num_features = num_features\n",
    "        self.num_classes = num_classes\n",
    "        self.weights = torch.zeros(num_classes, num_features, dtype=torch.float32, device=device)\n",
    "        self.bias = torch.zeros(num_classes, dtype=torch.float32, device=device)\n",
    "        \n",
    "    def forward(self, x):\n",
    "        z = torch.mm(x, self.weights.t()) + self.bias\n",
    "        a = softmax(z)\n",
    "        return z, a\n",
    "    \n",
    "    def backward(self, x, y, a):\n",
    "        dz = y - a\n",
    "        dw = -torch.mm(x.t(), dz).t()\n",
    "        db = torch.sum(dz)\n",
    "        return dw, db\n",
    "    \n",
    "    def predict_labels(self, x):\n",
    "        logits, probas = self.forward(x)\n",
    "        labels = torch.argmax(probas, dim=1)\n",
    "        return labels    \n",
    "            \n",
    "    def evaluate(self, x, y):\n",
    "        labels = self.predict_labels(x).float()\n",
    "        accuracy = torch.sum(labels.view(-1) == y.float()).item() / y.size(0)\n",
    "        return accuracy\n",
    "    \n",
    "    def train(self, x, y, num_epochs, learning_rate):\n",
    "        epoch_cost = []\n",
    "        train_acc = []\n",
    "        for e in range(num_epochs):\n",
    "            z, a = self.forward(x)\n",
    "            \n",
    "            y_onehot= to_onehot(y, self.num_classes)\n",
    "            dw, db = self.backward(x, y_onehot, a)\n",
    "            \n",
    "            self.weights -= learning_rate * dw / y.size(0)\n",
    "            self.bias -= learning_rate * db / y.size(0)\n",
    "            \n",
    "            cost = torch.mean(cross_entropy(a, y_onehot))\n",
    "            acc =  self.evaluate(x, y)\n",
    "            epoch_cost.append(cost)\n",
    "            train_acc.append(acc)\n",
    "        \n",
    "        plt.plot(epoch_cost)\n",
    "        plt.ylabel('Log Likelihood Loss')\n",
    "        plt.xlabel('Epoch')\n",
    "        plt.grid(True)\n",
    "        \n",
    "        \n",
    "        plt.show()"
   ]
  },
  {
   "cell_type": "code",
   "execution_count": 10,
   "metadata": {},
   "outputs": [
    {
     "data": {
      "image/png": "[encoded data removed]",
      "text/plain": [
       "<Figure size 432x288 with 1 Axes>"
      ]
     },
     "metadata": {
      "needs_background": "light"
     },
     "output_type": "display_data"
    }
   ],
   "source": [
    "model = SoftmaxRegression(num_features=2, num_classes=3)\n",
    "model.train(X_train, y_train, num_epochs=50, learning_rate=0.1)"
   ]
  }
 ],
 "metadata": {
  "kernelspec": {
   "display_name": "Python 3",
   "language": "python",
   "name": "python3"
  },
  "language_info": {
   "codemirror_mode": {
    "name": "ipython",
    "version": 3
   },
   "file_extension": ".py",
   "mimetype": "text/x-python",
   "name": "python",
   "nbconvert_exporter": "python",
   "pygments_lexer": "ipython3",
   "version": "3.6.8"
  }
 },
 "nbformat": 4,
 "nbformat_minor": 2
}
